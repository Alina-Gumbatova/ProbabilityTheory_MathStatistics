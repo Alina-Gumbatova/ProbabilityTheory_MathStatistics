{
 "cells": [
  {
   "cell_type": "markdown",
   "id": "20337bd8",
   "metadata": {},
   "source": [
    "# Практичекое задание 1\n",
    "## по теме: Случайные события. Условная вероятность. Формула Байеса. Независимые испытания"
   ]
  },
  {
   "cell_type": "markdown",
   "id": "712ef6d7",
   "metadata": {},
   "source": [
    "<div style=\"border:solid lightseagreen 3px; padding: 20px\">\n",
    "<b>Задача 1.</b>\n",
    "    Из колоды в 52 карты извлекаются случайным образом 4 карты. a) Найти вероятность того, что все карты – крести. б) Найти вероятность, что среди 4-х карт окажется хотя бы один туз.\n",
    "</div>"
   ]
  },
  {
   "cell_type": "markdown",
   "id": "383b7677",
   "metadata": {},
   "source": [
    "а) Вероятность того, что 1-ая карта - крести:"
   ]
  },
  {
   "cell_type": "markdown",
   "id": "8959a0aa",
   "metadata": {},
   "source": [
    "$$P(А_1) = \\frac{13}{52} = \\frac{1}{4}$$"
   ]
  },
  {
   "cell_type": "markdown",
   "id": "f2de2695",
   "metadata": {},
   "source": [
    "Вероятность того, что 2-ая карта - крести:"
   ]
  },
  {
   "cell_type": "markdown",
   "id": "b2e314c0",
   "metadata": {},
   "source": [
    "$$P(А_2) = \\frac{12}{51} = \\frac{4}{17}$$"
   ]
  },
  {
   "cell_type": "markdown",
   "id": "5505721d",
   "metadata": {},
   "source": [
    "Вероятность того, что 3-ая карта - крести:"
   ]
  },
  {
   "cell_type": "markdown",
   "id": "41244a08",
   "metadata": {},
   "source": [
    "$$P(А_3) = \\frac{11}{50}$$"
   ]
  },
  {
   "cell_type": "markdown",
   "id": "98aa3156",
   "metadata": {},
   "source": [
    "Вероятность того, что 4-ая карта - крести:"
   ]
  },
  {
   "cell_type": "markdown",
   "id": "ffcfae0d",
   "metadata": {},
   "source": [
    "$$P(А_4) = \\frac{10}{49}$$"
   ]
  },
  {
   "cell_type": "markdown",
   "id": "c63777bf",
   "metadata": {},
   "source": [
    "Следовательно, вероятность того, что все 4 карты - крести:"
   ]
  },
  {
   "cell_type": "markdown",
   "id": "8e3ec9cb",
   "metadata": {},
   "source": [
    "$$P(А_1\\:A_2\\:A_3\\:A_4) = \\frac{1}{4} \\cdot \\frac{4}{17} \\cdot \\frac{11}{50} \\cdot \\frac{10}{49} = \\frac{11}{4165}$$"
   ]
  },
  {
   "cell_type": "markdown",
   "id": "5902a893",
   "metadata": {},
   "source": [
    "б) Вероятность того, что среди 4-рех карт один туз:"
   ]
  },
  {
   "cell_type": "markdown",
   "id": "8107e62c",
   "metadata": {},
   "source": [
    "$$P(А_1) = \\frac{4}{52} = \\frac{1}{13}$$"
   ]
  },
  {
   "cell_type": "markdown",
   "id": "5e4bb2a8",
   "metadata": {},
   "source": [
    "Вероятность того, что среди 4-рех карт два туза:"
   ]
  },
  {
   "cell_type": "markdown",
   "id": "0a8ac4a7",
   "metadata": {},
   "source": [
    "$$P(A_2) = \\frac{4}{52} \\cdot \\frac{3}{51} = \\frac{1}{221}$$"
   ]
  },
  {
   "cell_type": "markdown",
   "id": "90947961",
   "metadata": {},
   "source": [
    "Вероятность того, что среди 4-рех карт три туза:"
   ]
  },
  {
   "cell_type": "markdown",
   "id": "0e7c2e7a",
   "metadata": {},
   "source": [
    "$$P(A_3) = \\frac{4}{52} \\cdot \\frac{3}{51} \\cdot \\frac{2}{50} = \\frac{1}{5525}$$"
   ]
  },
  {
   "cell_type": "markdown",
   "id": "f8742338",
   "metadata": {},
   "source": [
    "Вероятность того, что среди 4-рех карт четыре туза:"
   ]
  },
  {
   "cell_type": "markdown",
   "id": "5b0f0c46",
   "metadata": {},
   "source": [
    "$$P(A_4) = \\frac{4}{52} \\cdot \\frac{3}{51} \\cdot \\frac{2}{50} \\cdot \\frac{1}{49} = \\frac{1}{270725}$$"
   ]
  },
  {
   "cell_type": "markdown",
   "id": "df6476cd",
   "metadata": {},
   "source": [
    "Вероятность того, что среди 4 карт есть хотя бы 1 туз (1 и больще):"
   ]
  },
  {
   "cell_type": "markdown",
   "id": "c2d51606",
   "metadata": {},
   "source": [
    "$$P(А_1 + A_2 + A_3 + A_4) = \\frac{1}{13} + \\frac{1}{221} + \\frac{1}{5525} + \\frac{1}{270725} = \\frac{4}{49}$$"
   ]
  },
  {
   "cell_type": "markdown",
   "id": "829dc055",
   "metadata": {},
   "source": [
    "<div style=\"border:solid lightseagreen 3px; padding: 20px\">\n",
    "<b>Задача 2.</b>\n",
    "    На входной двери подъезда установлен кодовый замок, содержащий десять кнопок с цифрами от 0 до 9. Код содержит три цифры, которые нужно нажать одновременно. Какова вероятность того, что человек, не знающий код, откроет дверь с первой попытки?\n",
    "</div>"
   ]
  },
  {
   "cell_type": "markdown",
   "id": "1b7460de",
   "metadata": {},
   "source": [
    "Вероятность равна числу **сочетаний** из n = 10 элементов по k = 3 элементов в каждом."
   ]
  },
  {
   "cell_type": "markdown",
   "id": "2a271616",
   "metadata": {},
   "source": [
    "$$C_n^k = \\frac{n!}{k!(n - k)!}$$"
   ]
  },
  {
   "cell_type": "code",
   "execution_count": 1,
   "id": "ee021a33",
   "metadata": {},
   "outputs": [],
   "source": [
    "from math import factorial"
   ]
  },
  {
   "cell_type": "code",
   "execution_count": 2,
   "id": "b13699c0",
   "metadata": {},
   "outputs": [],
   "source": [
    "def combinations(n, k):\n",
    "    return int(factorial(n) / (factorial(k) * factorial(n - k)))"
   ]
  },
  {
   "cell_type": "code",
   "execution_count": 3,
   "id": "f71befca",
   "metadata": {},
   "outputs": [
    {
     "data": {
      "text/plain": [
       "120"
      ]
     },
     "execution_count": 3,
     "metadata": {},
     "output_type": "execute_result"
    }
   ],
   "source": [
    "combinations(10, 3)"
   ]
  },
  {
   "cell_type": "markdown",
   "id": "71d281f1",
   "metadata": {},
   "source": [
    "<div style=\"border:solid lightseagreen 3px; padding: 20px\">\n",
    "<b>Задача 3.</b>\n",
    "    В ящике имеется 15 деталей, из которых 9 окрашены. Рабочий случайным образом извлекает 3 детали. Какова вероятность того, что все извлеченные детали окрашены?\n",
    "</div>"
   ]
  },
  {
   "cell_type": "markdown",
   "id": "2be1e009",
   "metadata": {},
   "source": [
    "Число всех возможных исходов событий равно числу **сочетаний** из n = 15 элементов по k = 3 элементов:"
   ]
  },
  {
   "cell_type": "code",
   "execution_count": 5,
   "id": "40d363f5",
   "metadata": {},
   "outputs": [
    {
     "data": {
      "text/plain": [
       "455"
      ]
     },
     "execution_count": 5,
     "metadata": {},
     "output_type": "execute_result"
    }
   ],
   "source": [
    "combinations(15, 3)"
   ]
  },
  {
   "cell_type": "markdown",
   "id": "e6e15fb7",
   "metadata": {},
   "source": [
    "Число всех благоприятных исходов событий равно числу **сочетаний** из n = 9 элементов по k = 3 элементов:"
   ]
  },
  {
   "cell_type": "code",
   "execution_count": 6,
   "id": "c0ac1acc",
   "metadata": {},
   "outputs": [
    {
     "data": {
      "text/plain": [
       "84"
      ]
     },
     "execution_count": 6,
     "metadata": {},
     "output_type": "execute_result"
    }
   ],
   "source": [
    "combinations(9, 3)"
   ]
  },
  {
   "cell_type": "markdown",
   "id": "e6cb5da2",
   "metadata": {},
   "source": [
    "Вероятность благоприятного события равна:"
   ]
  },
  {
   "cell_type": "markdown",
   "id": "89557484",
   "metadata": {},
   "source": [
    "$$P(А) = \\frac{84}{455} = \\frac{12}{65}$$"
   ]
  },
  {
   "cell_type": "markdown",
   "id": "c17d0af2",
   "metadata": {},
   "source": [
    "<div style=\"border:solid lightseagreen 3px; padding: 20px\">\n",
    "<b>Задача 4.</b>\n",
    "    В лотерее 100 билетов. Из них 2 выигрышных. Какова вероятность того, что 2 приобретенных билета окажутся выигрышными?\n",
    "</div>"
   ]
  },
  {
   "cell_type": "markdown",
   "id": "4a5bfa8c",
   "metadata": {},
   "source": [
    "Число всех возможных исходов событий равно числу **сочетаний** из n = 100 элементов по k = 2 элементов:"
   ]
  },
  {
   "cell_type": "code",
   "execution_count": 7,
   "id": "ee679a8e",
   "metadata": {},
   "outputs": [
    {
     "data": {
      "text/plain": [
       "4950"
      ]
     },
     "execution_count": 7,
     "metadata": {},
     "output_type": "execute_result"
    }
   ],
   "source": [
    "combinations(100, 2)"
   ]
  },
  {
   "cell_type": "markdown",
   "id": "6d47b37d",
   "metadata": {},
   "source": [
    "Число всех благоприятных исходов событий равно числу **сочетаний** из n = 2 элементов по k = 2 элементов:"
   ]
  },
  {
   "cell_type": "code",
   "execution_count": 8,
   "id": "7e725287",
   "metadata": {},
   "outputs": [
    {
     "data": {
      "text/plain": [
       "1"
      ]
     },
     "execution_count": 8,
     "metadata": {},
     "output_type": "execute_result"
    }
   ],
   "source": [
    "combinations(2, 2)"
   ]
  },
  {
   "cell_type": "markdown",
   "id": "cc3dc7b1",
   "metadata": {},
   "source": [
    "Вероятность благоприятного события равна:"
   ]
  },
  {
   "cell_type": "markdown",
   "id": "641fca19",
   "metadata": {},
   "source": [
    "$$P(А) = \\frac{1}{4950}$$"
   ]
  },
  {
   "cell_type": "code",
   "execution_count": null,
   "id": "a5374410",
   "metadata": {},
   "outputs": [],
   "source": []
  }
 ],
 "metadata": {
  "kernelspec": {
   "display_name": "Python 3",
   "language": "python",
   "name": "python3"
  },
  "language_info": {
   "codemirror_mode": {
    "name": "ipython",
    "version": 3
   },
   "file_extension": ".py",
   "mimetype": "text/x-python",
   "name": "python",
   "nbconvert_exporter": "python",
   "pygments_lexer": "ipython3",
   "version": "3.8.8"
  }
 },
 "nbformat": 4,
 "nbformat_minor": 5
}
