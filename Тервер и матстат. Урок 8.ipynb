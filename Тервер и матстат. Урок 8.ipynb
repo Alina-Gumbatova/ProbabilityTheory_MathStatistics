{
 "cells": [
  {
   "cell_type": "markdown",
   "id": "c07ceb9f",
   "metadata": {},
   "source": [
    "# Практическое задание 8"
   ]
  },
  {
   "cell_type": "markdown",
   "id": "a437686f",
   "metadata": {},
   "source": [
    "## по теме: \"Дисперсионный анализ. Логистическая регрессия\""
   ]
  },
  {
   "cell_type": "markdown",
   "id": "5e6f7d63",
   "metadata": {},
   "source": [
    "**Задача 1.**\n",
    "\n",
    "Провести дисперсионный анализ для определения того, есть ли различия среднего роста среди взрослых футболистов, хоккеистов и штангистов. Даны значения роста в трех группах случайно выбранных спортсменов: Футболисты: 173, 175, 180, 178, 177, 185, 183, 182. Хоккеисты: 177, 179, 180, 188, 177, 172, 171, 184, 180. Штангисты: 172, 173, 169, 177, 166, 180, 178, 177, 172, 166, 170."
   ]
  },
  {
   "cell_type": "code",
   "execution_count": 1,
   "id": "859b4512",
   "metadata": {},
   "outputs": [],
   "source": [
    "import numpy as np"
   ]
  },
  {
   "cell_type": "code",
   "execution_count": 2,
   "id": "d18aa209",
   "metadata": {},
   "outputs": [],
   "source": [
    "y1 = np.array([173, 175, 180, 178, 177, 185, 183, 182])\n",
    "y2 = np.array([177, 179, 180, 188, 177, 172, 171, 184, 180])\n",
    "y3 = np.array([172, 173, 169, 177, 166, 180, 178, 177, 172, 166, 170])"
   ]
  },
  {
   "cell_type": "code",
   "execution_count": 3,
   "id": "f5849230",
   "metadata": {},
   "outputs": [
    {
     "data": {
      "text/plain": [
       "(8, 9, 11)"
      ]
     },
     "execution_count": 3,
     "metadata": {},
     "output_type": "execute_result"
    }
   ],
   "source": [
    "n1 = len(y1)\n",
    "n2 = len(y2)\n",
    "n3 = len(y3)\n",
    "n1, n2, n3"
   ]
  },
  {
   "cell_type": "code",
   "execution_count": 4,
   "id": "9b943299",
   "metadata": {},
   "outputs": [
    {
     "data": {
      "text/plain": [
       "28"
      ]
     },
     "execution_count": 4,
     "metadata": {},
     "output_type": "execute_result"
    }
   ],
   "source": [
    "n = n1 + n2 + n3\n",
    "n"
   ]
  },
  {
   "cell_type": "code",
   "execution_count": 5,
   "id": "7cbc34ec",
   "metadata": {},
   "outputs": [],
   "source": [
    "k = 3"
   ]
  },
  {
   "cell_type": "markdown",
   "id": "1b4b898f",
   "metadata": {},
   "source": [
    "Найдем средний рост для каждой группы спортсменов:"
   ]
  },
  {
   "cell_type": "code",
   "execution_count": 6,
   "id": "2c4b90eb",
   "metadata": {},
   "outputs": [
    {
     "data": {
      "text/plain": [
       "(179.125, 178.66666666666666, 172.72727272727272)"
      ]
     },
     "execution_count": 6,
     "metadata": {},
     "output_type": "execute_result"
    }
   ],
   "source": [
    "y1_mean = y1.mean()\n",
    "y2_mean = y2.mean()\n",
    "y3_mean = y3.mean()\n",
    "y1_mean, y2_mean, y3_mean"
   ]
  },
  {
   "cell_type": "code",
   "execution_count": 7,
   "id": "19e1a7db",
   "metadata": {},
   "outputs": [
    {
     "data": {
      "text/plain": [
       "array([173, 175, 180, 178, 177, 185, 183, 182, 177, 179, 180, 188, 177,\n",
       "       172, 171, 184, 180, 172, 173, 169, 177, 166, 180, 178, 177, 172,\n",
       "       166, 170])"
      ]
     },
     "execution_count": 7,
     "metadata": {},
     "output_type": "execute_result"
    }
   ],
   "source": [
    "y_all = np.concatenate([y1, y2, y3])\n",
    "y_all"
   ]
  },
  {
   "cell_type": "markdown",
   "id": "a07a52ac",
   "metadata": {},
   "source": [
    "Среднее значение по всем значениям:"
   ]
  },
  {
   "cell_type": "code",
   "execution_count": 8,
   "id": "4cce587b",
   "metadata": {},
   "outputs": [
    {
     "data": {
      "text/plain": [
       "176.46428571428572"
      ]
     },
     "execution_count": 8,
     "metadata": {},
     "output_type": "execute_result"
    }
   ],
   "source": [
    "y_mean = y_all.mean()\n",
    "y_mean"
   ]
  },
  {
   "cell_type": "markdown",
   "id": "bf75f246",
   "metadata": {},
   "source": [
    "Найдем $S^2$ — сумму квадратов отклонений наблюдений от общего среднего:"
   ]
  },
  {
   "cell_type": "code",
   "execution_count": 9,
   "id": "32dccd7f",
   "metadata": {},
   "outputs": [
    {
     "data": {
      "text/plain": [
       "830.9642857142854"
      ]
     },
     "execution_count": 9,
     "metadata": {},
     "output_type": "execute_result"
    }
   ],
   "source": [
    "s2 = np.sum((y_all - y_mean)**2)\n",
    "s2"
   ]
  },
  {
   "cell_type": "markdown",
   "id": "75d2a185",
   "metadata": {},
   "source": [
    "Найдем $S^2_F$ - сумму квадратов отклонений средних групповых значений от общего среднего:"
   ]
  },
  {
   "cell_type": "code",
   "execution_count": 10,
   "id": "8c1065d3",
   "metadata": {},
   "outputs": [
    {
     "data": {
      "text/plain": [
       "253.9074675324678"
      ]
     },
     "execution_count": 10,
     "metadata": {},
     "output_type": "execute_result"
    }
   ],
   "source": [
    "s2_f = ((y1_mean - y_mean)**2) * n1 + ((y2_mean - y_mean)**2) * n2 + ((y3_mean - y_mean)**2) * n3\n",
    "s2_f"
   ]
  },
  {
   "cell_type": "markdown",
   "id": "6bb02741",
   "metadata": {},
   "source": [
    "Найдем $S^2_{ост}$ — остаточную сумму квадратов отклонений из формулы $S^2 = S_F^2 + S_{ост}^2$:"
   ]
  },
  {
   "cell_type": "markdown",
   "id": "7b9f9e34",
   "metadata": {},
   "source": [
    "$$S_{ост}^2 = S^2 - S_F^2$$"
   ]
  },
  {
   "cell_type": "code",
   "execution_count": 11,
   "id": "d18747af",
   "metadata": {},
   "outputs": [
    {
     "data": {
      "text/plain": [
       "577.0568181818177"
      ]
     },
     "execution_count": 11,
     "metadata": {},
     "output_type": "execute_result"
    }
   ],
   "source": [
    "s2_residual = s2 - s2_f\n",
    "s2_residual"
   ]
  },
  {
   "cell_type": "markdown",
   "id": "654fe27e",
   "metadata": {},
   "source": [
    "Найдем общую дисперсию:"
   ]
  },
  {
   "cell_type": "code",
   "execution_count": 12,
   "id": "9a7c0c19",
   "metadata": {},
   "outputs": [
    {
     "data": {
      "text/plain": [
       "30.776455026455015"
      ]
     },
     "execution_count": 12,
     "metadata": {},
     "output_type": "execute_result"
    }
   ],
   "source": [
    "sigma2_general = s2 / (n - 1)\n",
    "sigma2_general"
   ]
  },
  {
   "cell_type": "markdown",
   "id": "654e89d7",
   "metadata": {},
   "source": [
    "Найдем факторную дисперсию:"
   ]
  },
  {
   "cell_type": "code",
   "execution_count": 13,
   "id": "4854734b",
   "metadata": {},
   "outputs": [
    {
     "data": {
      "text/plain": [
       "126.9537337662339"
      ]
     },
     "execution_count": 13,
     "metadata": {},
     "output_type": "execute_result"
    }
   ],
   "source": [
    "sigma2_f = s2_f / (k - 1)\n",
    "sigma2_f"
   ]
  },
  {
   "cell_type": "markdown",
   "id": "fbc209ae",
   "metadata": {},
   "source": [
    "Найдем остаточную дисперсию:"
   ]
  },
  {
   "cell_type": "code",
   "execution_count": 14,
   "id": "d79c34f7",
   "metadata": {},
   "outputs": [
    {
     "data": {
      "text/plain": [
       "23.082272727272706"
      ]
     },
     "execution_count": 14,
     "metadata": {},
     "output_type": "execute_result"
    }
   ],
   "source": [
    "sigma2_residual = s2_residual / (n - k)\n",
    "sigma2_residual"
   ]
  },
  {
   "cell_type": "markdown",
   "id": "9e5796c4",
   "metadata": {},
   "source": [
    "Вычислим $F_H$:"
   ]
  },
  {
   "cell_type": "code",
   "execution_count": 15,
   "id": "ad25648d",
   "metadata": {},
   "outputs": [
    {
     "data": {
      "text/plain": [
       "5.5000534508126036"
      ]
     },
     "execution_count": 15,
     "metadata": {},
     "output_type": "execute_result"
    }
   ],
   "source": [
    "F_h = sigma2_f / sigma2_residual\n",
    "F_h"
   ]
  },
  {
   "cell_type": "markdown",
   "id": "e25d6cba",
   "metadata": {},
   "source": [
    "Найдем значение $F_{крит}$ в таблице критических точек распределения Фишера-Снедекора для заданного уровня значимости $\\alpha = 0.05$ и двух степеней свободы: \n",
    "\n",
    "$df_{межд} = k - 1 = 3 - 1 = 2$ и $df_{внутр} = n - k = 28 - 3 = 25$."
   ]
  },
  {
   "cell_type": "markdown",
   "id": "211dcb7f",
   "metadata": {},
   "source": [
    "Для данных значений $F_{крит} = 3.38$. Так как $F_H > F_{крит}$, различие средних зарплат в трех группах статистически значимо."
   ]
  },
  {
   "cell_type": "markdown",
   "id": "3a8a4dbf",
   "metadata": {},
   "source": [
    "Вычислим эмпирическое корреляционное отношение $\\eta^2$:"
   ]
  },
  {
   "cell_type": "code",
   "execution_count": 16,
   "id": "41945aa1",
   "metadata": {},
   "outputs": [
    {
     "data": {
      "text/plain": [
       "0.30555761769498"
      ]
     },
     "execution_count": 16,
     "metadata": {},
     "output_type": "execute_result"
    }
   ],
   "source": [
    "eta2 = s2_f / s2\n",
    "eta2"
   ]
  },
  {
   "cell_type": "markdown",
   "id": "a88d8c38",
   "metadata": {},
   "source": [
    "Значение $\\eta^2$ не близко к 1 — значит,  различие средних зарплат в трех группах не является статистически значимым."
   ]
  },
  {
   "cell_type": "code",
   "execution_count": null,
   "id": "c2f97efa",
   "metadata": {},
   "outputs": [],
   "source": []
  }
 ],
 "metadata": {
  "kernelspec": {
   "display_name": "Python 3",
   "language": "python",
   "name": "python3"
  },
  "language_info": {
   "codemirror_mode": {
    "name": "ipython",
    "version": 3
   },
   "file_extension": ".py",
   "mimetype": "text/x-python",
   "name": "python",
   "nbconvert_exporter": "python",
   "pygments_lexer": "ipython3",
   "version": "3.8.8"
  }
 },
 "nbformat": 4,
 "nbformat_minor": 5
}
