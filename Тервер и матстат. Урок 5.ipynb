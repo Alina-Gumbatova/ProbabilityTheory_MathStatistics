{
 "cells": [
  {
   "cell_type": "markdown",
   "id": "5597c54c",
   "metadata": {},
   "source": [
    "# Практическое задание 5"
   ]
  },
  {
   "cell_type": "markdown",
   "id": "817356a9",
   "metadata": {},
   "source": [
    "## по теме: \"Проверка статистических гипотез. P-значения. Доверительные интервалы. A/B-тестирование\""
   ]
  },
  {
   "cell_type": "markdown",
   "id": "302180c0",
   "metadata": {},
   "source": [
    "**Задача 1.**\n",
    "\n",
    "Известно, что генеральная совокупность распределена нормально со средним квадратическим отклонением, равным 16. Найти доверительный интервал для оценки математического ожидания с надежностью 0.95, если выборочная средняя M = 80, а объем выборки n = 256."
   ]
  },
  {
   "cell_type": "markdown",
   "id": "db8cc3e2",
   "metadata": {},
   "source": [
    "$$T_{1,2} = \\overline{X} \\pm \\frac{s_0}{\\sqrt{n}} \\cdot c_{\\gamma}$$"
   ]
  },
  {
   "cell_type": "markdown",
   "id": "bf92426e",
   "metadata": {},
   "source": [
    "где $T_1$, $T_2$ — нижняя и верхняя границы доверительного интервала,\n",
    "\n",
    "$\\overline{X}$  — выборочное среднее арифметическое, $s_0$ — среднее квадратичное отклонение по выборке (несмещенное),\n",
    "\n",
    "$n$ — размер выборки,\n",
    "\n",
    "$\\gamma$ — доверительная вероятность."
   ]
  },
  {
   "cell_type": "markdown",
   "id": "91afcf01",
   "metadata": {},
   "source": [
    "$c_{\\gamma} = Ф^{-1} \\frac{(1 + \\gamma)}{2}$ — обратное значение функции стандартного нормального распределения."
   ]
  },
  {
   "cell_type": "markdown",
   "id": "994eae43",
   "metadata": {},
   "source": [
    "Надежность = 0,95\n",
    "\n",
    "Альфа = 5%\n",
    "\n",
    "Вероятность 1-0,05/2 = 0,975\n",
    "\n",
    "z(альфа/2) = 1,96"
   ]
  },
  {
   "cell_type": "markdown",
   "id": "638fa685",
   "metadata": {},
   "source": [
    "$$T_{1,2} = 80 \\pm \\frac{16}{\\sqrt{256}} \\cdot 1.96 = 80 \\pm 1.96$$\n",
    "\n",
    "$$ [78.04;   81.96]$$"
   ]
  },
  {
   "cell_type": "markdown",
   "id": "9df1abc6",
   "metadata": {},
   "source": [
    "**Задача 2.**\n",
    "\n",
    "В результате 10 независимых измерений некоторой величины X, выполненных с одинаковой точностью, получены опытные данные: 6.9, 6.1, 6.2, 6.8, 7.5, 6.3, 6.4, 6.9, 6.7, 6.1 Предполагая, что результаты измерений подчинены нормальному закону распределения вероятностей, оценить истинное значение величины X при помощи доверительного интервала, покрывающего это значение с доверительной вероятностью 0,95."
   ]
  },
  {
   "cell_type": "code",
   "execution_count": 1,
   "id": "27226c3a",
   "metadata": {},
   "outputs": [],
   "source": [
    "import pandas as pd"
   ]
  },
  {
   "cell_type": "code",
   "execution_count": 2,
   "id": "3a79c42b",
   "metadata": {},
   "outputs": [],
   "source": [
    "x = [6.9, 6.1, 6.2, 6.8, 7.5, 6.3, 6.4, 6.9, 6.7, 6.1]"
   ]
  },
  {
   "cell_type": "code",
   "execution_count": 3,
   "id": "35b1218d",
   "metadata": {},
   "outputs": [],
   "source": [
    "x_df =  pd.DataFrame(x)"
   ]
  },
  {
   "cell_type": "code",
   "execution_count": 4,
   "id": "2d9d844a",
   "metadata": {},
   "outputs": [
    {
     "data": {
      "text/plain": [
       "0    6.59\n",
       "dtype: float64"
      ]
     },
     "execution_count": 4,
     "metadata": {},
     "output_type": "execute_result"
    }
   ],
   "source": [
    "mean_x = x_df.sum() / x_df.count()\n",
    "mean_x"
   ]
  },
  {
   "cell_type": "markdown",
   "id": "f39f2fcd",
   "metadata": {},
   "source": [
    "Считаем **среднее квадратичное отклонение** (несмещенное):"
   ]
  },
  {
   "cell_type": "markdown",
   "id": "b70a9cf0",
   "metadata": {},
   "source": [
    "$$\\sigma = \\sqrt{\\frac{\\sum\\limits_{i=1}^{n} (x_i - \\overline{x})^2}{n-1}}$$"
   ]
  },
  {
   "cell_type": "code",
   "execution_count": 5,
   "id": "c957b86c",
   "metadata": {},
   "outputs": [],
   "source": [
    "import numpy as np"
   ]
  },
  {
   "cell_type": "code",
   "execution_count": 6,
   "id": "b21bc105",
   "metadata": {},
   "outputs": [
    {
     "data": {
      "text/plain": [
       "0    0.450802\n",
       "dtype: float64"
      ]
     },
     "execution_count": 6,
     "metadata": {},
     "output_type": "execute_result"
    }
   ],
   "source": [
    "x_std = np.sqrt(((x_df - mean_x)**2).sum() / (x_df.count() - 1))\n",
    "x_std"
   ]
  },
  {
   "cell_type": "markdown",
   "id": "305f6037",
   "metadata": {},
   "source": [
    "$$T_{1,2} = \\overline{X} \\pm \\frac{s_0}{\\sqrt{n}} \\cdot c_{\\gamma} = 6.59 \\pm \\frac{0.45}{\\sqrt{10}} \\cdot 2.262 = 6.59 \\pm 0.32$$\n",
    "\n",
    "$$ [6.27;   6.91]$$"
   ]
  },
  {
   "cell_type": "markdown",
   "id": "e742ebd8",
   "metadata": {},
   "source": [
    "**Задача 3.**\n",
    "\n",
    "Утверждается, что шарики для подшипников, изготовленные автоматическим станком, имеют средний диаметр 17 мм. Используя односторонний критерий с α=0,05, проверить эту гипотезу, если в выборке из n=100 шариков средний диаметр оказался равным 17.5 мм, а дисперсия известна и равна 4 кв.мм."
   ]
  },
  {
   "cell_type": "markdown",
   "id": "7f9f69cd",
   "metadata": {},
   "source": [
    "Н0: шарики для подшипников имеют средний диаметр 17 мм\n",
    "\n",
    "Н1: шарики для подшипников имеют средний диаметр 17.5 мм"
   ]
  },
  {
   "cell_type": "markdown",
   "id": "2bca711f",
   "metadata": {},
   "source": [
    "z(табл) = 1.645\n",
    "\n",
    "Стандартное отклонение равно 2/10 = 0.2"
   ]
  },
  {
   "cell_type": "markdown",
   "id": "66a6a122",
   "metadata": {},
   "source": [
    "17.5 - 17.0 = 0.5\n",
    "\n",
    "0.5 / 0.2 = 2.5\n",
    "\n",
    "1.65 < 2.5"
   ]
  },
  {
   "cell_type": "markdown",
   "id": "ea543dc8",
   "metadata": {},
   "source": [
    "Следовательно, принимаем гипотезу H1 на уровне значимости 5%."
   ]
  },
  {
   "cell_type": "markdown",
   "id": "325e69b8",
   "metadata": {},
   "source": [
    "**Задача 4.**\n",
    "\n",
    "Продавец утверждает, что средний вес пачки печенья составляет 200 г. Из партии извлечена выборка из 10 пачек.\n",
    "Вес каждой пачки составляет:\n",
    "202, 203, 199, 197, 195, 201, 200, 204, 194, 190. Известно,\n",
    "что их веса распределены нормально.\n",
    "Верно ли утверждение продавца, если учитывать, что доверительная вероятность равна 99%?"
   ]
  },
  {
   "cell_type": "markdown",
   "id": "1a69aa62",
   "metadata": {},
   "source": [
    "H0: средний вес пачки печенья составляет 200 г.\n",
    "\n",
    "t(табл) = 3.25 для доверительной вероятсти 0.5%"
   ]
  },
  {
   "cell_type": "code",
   "execution_count": 7,
   "id": "c13d991b",
   "metadata": {},
   "outputs": [],
   "source": [
    "y = [202, 203, 199, 197, 195, 201, 200, 204, 194, 190]"
   ]
  },
  {
   "cell_type": "code",
   "execution_count": 8,
   "id": "1e4d6a79",
   "metadata": {},
   "outputs": [],
   "source": [
    "df_y = pd.DataFrame(y)"
   ]
  },
  {
   "cell_type": "code",
   "execution_count": 9,
   "id": "5b298563",
   "metadata": {},
   "outputs": [
    {
     "data": {
      "text/html": [
       "<div>\n",
       "<style scoped>\n",
       "    .dataframe tbody tr th:only-of-type {\n",
       "        vertical-align: middle;\n",
       "    }\n",
       "\n",
       "    .dataframe tbody tr th {\n",
       "        vertical-align: top;\n",
       "    }\n",
       "\n",
       "    .dataframe thead th {\n",
       "        text-align: right;\n",
       "    }\n",
       "</style>\n",
       "<table border=\"1\" class=\"dataframe\">\n",
       "  <thead>\n",
       "    <tr style=\"text-align: right;\">\n",
       "      <th></th>\n",
       "      <th>0</th>\n",
       "    </tr>\n",
       "  </thead>\n",
       "  <tbody>\n",
       "    <tr>\n",
       "      <th>0</th>\n",
       "      <td>202</td>\n",
       "    </tr>\n",
       "    <tr>\n",
       "      <th>1</th>\n",
       "      <td>203</td>\n",
       "    </tr>\n",
       "    <tr>\n",
       "      <th>2</th>\n",
       "      <td>199</td>\n",
       "    </tr>\n",
       "    <tr>\n",
       "      <th>3</th>\n",
       "      <td>197</td>\n",
       "    </tr>\n",
       "    <tr>\n",
       "      <th>4</th>\n",
       "      <td>195</td>\n",
       "    </tr>\n",
       "    <tr>\n",
       "      <th>5</th>\n",
       "      <td>201</td>\n",
       "    </tr>\n",
       "    <tr>\n",
       "      <th>6</th>\n",
       "      <td>200</td>\n",
       "    </tr>\n",
       "    <tr>\n",
       "      <th>7</th>\n",
       "      <td>204</td>\n",
       "    </tr>\n",
       "    <tr>\n",
       "      <th>8</th>\n",
       "      <td>194</td>\n",
       "    </tr>\n",
       "    <tr>\n",
       "      <th>9</th>\n",
       "      <td>190</td>\n",
       "    </tr>\n",
       "  </tbody>\n",
       "</table>\n",
       "</div>"
      ],
      "text/plain": [
       "     0\n",
       "0  202\n",
       "1  203\n",
       "2  199\n",
       "3  197\n",
       "4  195\n",
       "5  201\n",
       "6  200\n",
       "7  204\n",
       "8  194\n",
       "9  190"
      ]
     },
     "execution_count": 9,
     "metadata": {},
     "output_type": "execute_result"
    }
   ],
   "source": [
    "df_y"
   ]
  },
  {
   "cell_type": "code",
   "execution_count": 10,
   "id": "b4d8aef9",
   "metadata": {},
   "outputs": [
    {
     "data": {
      "text/plain": [
       "0    198.5\n",
       "dtype: float64"
      ]
     },
     "execution_count": 10,
     "metadata": {},
     "output_type": "execute_result"
    }
   ],
   "source": [
    "mean_y = df_y.sum() / df_y.count()\n",
    "mean_y"
   ]
  },
  {
   "cell_type": "code",
   "execution_count": 11,
   "id": "3bd59f7e",
   "metadata": {},
   "outputs": [
    {
     "data": {
      "text/plain": [
       "0    4.453463\n",
       "dtype: float64"
      ]
     },
     "execution_count": 11,
     "metadata": {},
     "output_type": "execute_result"
    }
   ],
   "source": [
    "y_std = np.sqrt(((df_y - mean_y)**2).sum() / (df_y.count() - 1))\n",
    "y_std"
   ]
  },
  {
   "cell_type": "markdown",
   "id": "41bd66b3",
   "metadata": {},
   "source": [
    "Стандартное отклонение равно 4.45 / 3.162 = 1.41\n",
    "\n",
    "200 - 198,5 = 1,5\n",
    "\n",
    "1,5 / 1,41 = 1,06\n",
    "\n",
    "1.06 < 3.25\n",
    "\n",
    "Следовательно, принимаем нулевую гипотезу на уровне значимости 1%."
   ]
  },
  {
   "cell_type": "code",
   "execution_count": null,
   "id": "8712498e",
   "metadata": {},
   "outputs": [],
   "source": []
  }
 ],
 "metadata": {
  "kernelspec": {
   "display_name": "Python 3",
   "language": "python",
   "name": "python3"
  },
  "language_info": {
   "codemirror_mode": {
    "name": "ipython",
    "version": 3
   },
   "file_extension": ".py",
   "mimetype": "text/x-python",
   "name": "python",
   "nbconvert_exporter": "python",
   "pygments_lexer": "ipython3",
   "version": "3.8.8"
  }
 },
 "nbformat": 4,
 "nbformat_minor": 5
}
