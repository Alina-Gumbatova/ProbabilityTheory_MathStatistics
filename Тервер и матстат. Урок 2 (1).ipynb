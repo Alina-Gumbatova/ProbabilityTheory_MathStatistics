{
 "cells": [
  {
   "cell_type": "markdown",
   "id": "ee9e9719",
   "metadata": {},
   "source": [
    "# Практическое задание 2 \n",
    "## по теме: \"Дискретные случайные величины. Закон распределения вероятностей. Биномиальный закон распределения. Распределение Пуассона\""
   ]
  },
  {
   "cell_type": "markdown",
   "id": "17ab0f3d",
   "metadata": {},
   "source": [
    "**Задача 1.**\n",
    "\n",
    "Вероятность того, что стрелок попадет в мишень, выстрелив один раз, равна 0.8. Стрелок выстрелил 100 раз. Найдите вероятность того, что стрелок попадет в цель ровно 85 раз."
   ]
  },
  {
   "cell_type": "markdown",
   "id": "c132e64c",
   "metadata": {},
   "source": [
    "Используем закон биномиального распределения для дискретных случайных величин:\n",
    "$$p = C_n^kp^kq^{n-k},$$\n",
    "где n = 100 - число независимых испытаний, \n",
    "    k = 85 - число попаданий в цель,\n",
    "    p = 0.8 - вероятность попадания в цель,\n",
    "    q = (1 - p) - вероятность промаха."
   ]
  },
  {
   "cell_type": "code",
   "execution_count": 1,
   "id": "3a619227",
   "metadata": {},
   "outputs": [],
   "source": [
    "from math import factorial"
   ]
  },
  {
   "cell_type": "code",
   "execution_count": 2,
   "id": "44d28627",
   "metadata": {},
   "outputs": [],
   "source": [
    "# функция, считающая число сочетаний\n",
    "def combinations(n, k):\n",
    "    return int(factorial(n) / (factorial(k) * factorial(n - k)))"
   ]
  },
  {
   "cell_type": "code",
   "execution_count": 3,
   "id": "fd4a4e4d",
   "metadata": {},
   "outputs": [],
   "source": [
    "# функция, вычисляющая по формуле Бернулли биномиальное распределение\n",
    "def binomial_distribution(n, k, p):\n",
    "    return combinations(n, k) * p ** k * (1 - p) ** (n - k)"
   ]
  },
  {
   "cell_type": "code",
   "execution_count": 4,
   "id": "d6aca71a",
   "metadata": {},
   "outputs": [
    {
     "name": "stdout",
     "output_type": "stream",
     "text": [
      "Вероятность того, что стрелок выстрелит 100 раз и попадет в цель 85 раз равна 4.81%\n"
     ]
    }
   ],
   "source": [
    "print(f'Вероятность того, что стрелок выстрелит 100 раз и попадет в цель 85 раз равна {binomial_distribution(100, 85, 0.8):.2%}')"
   ]
  },
  {
   "cell_type": "markdown",
   "id": "5c9d3708",
   "metadata": {},
   "source": [
    "**Задача 2.**\n",
    "\n",
    "Вероятность того, что лампочка перегорит в течение первого дня эксплуатации, равна 0.0004. В жилом комплексе после ремонта в один день включили 5000 новых лампочек. Какова вероятность, что ни одна из них не перегорит в первый день?\n",
    "Какова вероятность, что перегорят ровно две?"
   ]
  },
  {
   "cell_type": "markdown",
   "id": "44420648",
   "metadata": {},
   "source": [
    "В данном случае проводится большое число испытаний, а вероятность того, что лампочка перегорит в первый день мала. Следовательно, справедлива формула Пуассона:\n",
    "$$P_m \\approx \\frac{\\lambda^m}{m!}e^{-\\lambda},$$\n",
    "где λ = np, n = 5000 - число испытаний, p = 0.0004 - вероятность того, что лампочка перегорит в первый день, m = 0 (m = 2) - сколько лампочек перегорело в первый день."
   ]
  },
  {
   "cell_type": "code",
   "execution_count": 5,
   "id": "c5c4767f",
   "metadata": {},
   "outputs": [],
   "source": [
    "import numpy as np"
   ]
  },
  {
   "cell_type": "code",
   "execution_count": 6,
   "id": "d17c4df7",
   "metadata": {},
   "outputs": [],
   "source": [
    "# функция, вычисляющая вероятность по формуле Пуассона\n",
    "def poisson (n, p, m):\n",
    "    l = n * p\n",
    "    return l ** m / factorial(m) * np.exp(-l)"
   ]
  },
  {
   "cell_type": "code",
   "execution_count": 7,
   "id": "a9cd1463",
   "metadata": {},
   "outputs": [
    {
     "name": "stdout",
     "output_type": "stream",
     "text": [
      "Вероятность того, что ни одна лампочка не перегорит в первый день равна 13.53%\n"
     ]
    }
   ],
   "source": [
    "print(f'Вероятность того, что ни одна лампочка не перегорит в первый день равна {poisson(5000, 0.0004, 0):.2%}')"
   ]
  },
  {
   "cell_type": "code",
   "execution_count": 8,
   "id": "49e55b87",
   "metadata": {},
   "outputs": [
    {
     "name": "stdout",
     "output_type": "stream",
     "text": [
      "Вероятность того, что две лампочки перегорят в первый день равна 27.07%\n"
     ]
    }
   ],
   "source": [
    "print(f'Вероятность того, что две лампочки перегорят в первый день равна {poisson(5000, 0.0004, 2):.2%}')"
   ]
  },
  {
   "cell_type": "code",
   "execution_count": 9,
   "id": "35c89165",
   "metadata": {},
   "outputs": [],
   "source": [
    "import matplotlib.pyplot as plt"
   ]
  },
  {
   "cell_type": "code",
   "execution_count": 10,
   "id": "d592a648",
   "metadata": {},
   "outputs": [],
   "source": [
    "x = range(0, 11)\n",
    "y = []\n",
    "for el in range(0, 11):\n",
    "    y.append(poisson(5000, 0.0004, el))"
   ]
  },
  {
   "cell_type": "code",
   "execution_count": 11,
   "id": "06ecf029",
   "metadata": {},
   "outputs": [
    {
     "data": {
      "text/plain": [
       "[<matplotlib.lines.Line2D at 0x150c5391f70>]"
      ]
     },
     "execution_count": 11,
     "metadata": {},
     "output_type": "execute_result"
    },
    {
     "data": {
      "image/png": "[encoded data removed]",
      "text/plain": [
       "<Figure size 432x288 with 1 Axes>"
      ]
     },
     "metadata": {
      "needs_background": "light"
     },
     "output_type": "display_data"
    }
   ],
   "source": [
    "plt.plot(x, y, marker='o')"
   ]
  },
  {
   "cell_type": "markdown",
   "id": "891db9e9",
   "metadata": {},
   "source": [
    "**Задача 3.**\n",
    "\n",
    "Монету подбросили 144 раза. Какова вероятность, что орел выпадет ровно 70 раз?"
   ]
  },
  {
   "cell_type": "markdown",
   "id": "a1888202",
   "metadata": {},
   "source": [
    "Решение аналогично задаче 1:"
   ]
  },
  {
   "cell_type": "code",
   "execution_count": 12,
   "id": "f1e4c88d",
   "metadata": {},
   "outputs": [
    {
     "name": "stdout",
     "output_type": "stream",
     "text": [
      "Вероятность того, что орел выпадет 70 раз при 144 подбрасываниях равна 6.28%\n"
     ]
    }
   ],
   "source": [
    "print(f'Вероятность того, что орел выпадет 70 раз при 144 подбрасываниях равна {binomial_distribution(144, 70, 0.5):.2%}')"
   ]
  },
  {
   "cell_type": "markdown",
   "id": "c7b1147f",
   "metadata": {},
   "source": [
    "**Задача 4.**\n",
    "\n",
    "В первом ящике находится 10 мячей, из которых 7 - белые. Во втором ящике - 11 мячей, из которых 9 белых. Из каждого ящика вытаскивают случайным образом по два мяча. Какова вероятность того, что все мячи белые? Какова вероятность того, что ровно два мяча белые? Какова вероятность того, что хотя бы один мяч белый?"
   ]
  },
  {
   "cell_type": "markdown",
   "id": "e36af261",
   "metadata": {},
   "source": [
    "Число способов вынуть 2 мяча из первого ящика равно числу сочетаний:"
   ]
  },
  {
   "cell_type": "code",
   "execution_count": 13,
   "id": "d70410e6",
   "metadata": {},
   "outputs": [
    {
     "data": {
      "text/plain": [
       "45"
      ]
     },
     "execution_count": 13,
     "metadata": {},
     "output_type": "execute_result"
    }
   ],
   "source": [
    "combinations(10, 2)"
   ]
  },
  {
   "cell_type": "markdown",
   "id": "c21445ac",
   "metadata": {},
   "source": [
    "Число способов вынуть 2 мяча из второго ящика равно:"
   ]
  },
  {
   "cell_type": "code",
   "execution_count": 14,
   "id": "a6c5cc8f",
   "metadata": {},
   "outputs": [
    {
     "data": {
      "text/plain": [
       "55"
      ]
     },
     "execution_count": 14,
     "metadata": {},
     "output_type": "execute_result"
    }
   ],
   "source": [
    "combinations(11, 2)"
   ]
  },
  {
   "cell_type": "markdown",
   "id": "2f115f06",
   "metadata": {},
   "source": [
    "Всего способов:"
   ]
  },
  {
   "cell_type": "code",
   "execution_count": 15,
   "id": "97ff3543",
   "metadata": {},
   "outputs": [
    {
     "data": {
      "text/plain": [
       "2475"
      ]
     },
     "execution_count": 15,
     "metadata": {},
     "output_type": "execute_result"
    }
   ],
   "source": [
    "45 * 55"
   ]
  },
  {
   "cell_type": "markdown",
   "id": "1e86e4c1",
   "metadata": {},
   "source": [
    "**а)** Найдем вероятность того, что все вынутые мячи белые"
   ]
  },
  {
   "cell_type": "markdown",
   "id": "6d6c4111",
   "metadata": {},
   "source": [
    "Число способов вынуть 2 белых мяча из первого ящика:"
   ]
  },
  {
   "cell_type": "code",
   "execution_count": 16,
   "id": "4a0f9bdb",
   "metadata": {},
   "outputs": [
    {
     "data": {
      "text/plain": [
       "21"
      ]
     },
     "execution_count": 16,
     "metadata": {},
     "output_type": "execute_result"
    }
   ],
   "source": [
    "combinations(7, 2)"
   ]
  },
  {
   "cell_type": "markdown",
   "id": "0650a7df",
   "metadata": {},
   "source": [
    "Число способов вынуть 2 белых мяча из второго ящика:"
   ]
  },
  {
   "cell_type": "code",
   "execution_count": 17,
   "id": "9eebed1e",
   "metadata": {},
   "outputs": [
    {
     "data": {
      "text/plain": [
       "36"
      ]
     },
     "execution_count": 17,
     "metadata": {},
     "output_type": "execute_result"
    }
   ],
   "source": [
    "combinations(9, 2)"
   ]
  },
  {
   "cell_type": "markdown",
   "id": "a8a54257",
   "metadata": {},
   "source": [
    "Всего способов:"
   ]
  },
  {
   "cell_type": "code",
   "execution_count": 18,
   "id": "5702b4f1",
   "metadata": {},
   "outputs": [
    {
     "data": {
      "text/plain": [
       "756"
      ]
     },
     "execution_count": 18,
     "metadata": {},
     "output_type": "execute_result"
    }
   ],
   "source": [
    "21 *36"
   ]
  },
  {
   "cell_type": "markdown",
   "id": "a5a4b4ae",
   "metadata": {},
   "source": [
    "Следовательно, вероятность события равна:"
   ]
  },
  {
   "cell_type": "code",
   "execution_count": 19,
   "id": "35e48ded",
   "metadata": {},
   "outputs": [
    {
     "name": "stdout",
     "output_type": "stream",
     "text": [
      "30.5%\n"
     ]
    }
   ],
   "source": [
    "print(f'{(756 / 2475):.1%}')"
   ]
  },
  {
   "cell_type": "markdown",
   "id": "0c7903a3",
   "metadata": {},
   "source": [
    "**б)** Найдем вероятность того, что равно два мяча белых"
   ]
  },
  {
   "cell_type": "markdown",
   "id": "00354030",
   "metadata": {},
   "source": [
    "**Рассмотрим 1-ый случай:** из первого ящика достали 2 белых, а из второго - другого цвета.\n",
    "\n",
    "Число способов достать два белых из первого равно 21.\n",
    "\n",
    "Число способов достать два шарика другого цвета из второго ящика равно 1.\n",
    "\n",
    "Следовательно, всего число способов 21 * 1 = 21"
   ]
  },
  {
   "cell_type": "markdown",
   "id": "3d818422",
   "metadata": {},
   "source": [
    "**Рассмотрим 2-ой случай:** из первого ящика достали 2 шарика друго цвета, а из второго - 2 белого цвета.\n",
    "\n",
    "Число способов достать два белых из второго равно 36.\n",
    "\n",
    "Число способов достать два шарика другого цвета из первого ящика равно:"
   ]
  },
  {
   "cell_type": "code",
   "execution_count": 20,
   "id": "989f3ecc",
   "metadata": {},
   "outputs": [
    {
     "data": {
      "text/plain": [
       "6"
      ]
     },
     "execution_count": 20,
     "metadata": {},
     "output_type": "execute_result"
    }
   ],
   "source": [
    "combinations(4, 2)"
   ]
  },
  {
   "cell_type": "markdown",
   "id": "9cb76ef5",
   "metadata": {},
   "source": [
    "Всего способов:"
   ]
  },
  {
   "cell_type": "code",
   "execution_count": 21,
   "id": "ea4ef7e9",
   "metadata": {},
   "outputs": [
    {
     "data": {
      "text/plain": [
       "216"
      ]
     },
     "execution_count": 21,
     "metadata": {},
     "output_type": "execute_result"
    }
   ],
   "source": [
    "36 * 6"
   ]
  },
  {
   "cell_type": "markdown",
   "id": "ef750d85",
   "metadata": {},
   "source": [
    "**Рассмотрим 3-ий случай:** из первого ящика достали 1 белый шарик и 1 другого цвета, и из второго - 1 белый и 1 другого цвета.\n",
    "\n",
    "Число способов достать 1 белый шарик и 1 другого цвета из первого ящика:"
   ]
  },
  {
   "cell_type": "code",
   "execution_count": 22,
   "id": "84c33d71",
   "metadata": {},
   "outputs": [
    {
     "data": {
      "text/plain": [
       "21"
      ]
     },
     "execution_count": 22,
     "metadata": {},
     "output_type": "execute_result"
    }
   ],
   "source": [
    "combinations(7, 1) * combinations(3, 1)"
   ]
  },
  {
   "cell_type": "markdown",
   "id": "5d71bb0c",
   "metadata": {},
   "source": [
    "Число способов достать 1 белый шарик и 1 другого цвета из второго ящика:"
   ]
  },
  {
   "cell_type": "code",
   "execution_count": 23,
   "id": "a8cfde6f",
   "metadata": {},
   "outputs": [
    {
     "data": {
      "text/plain": [
       "18"
      ]
     },
     "execution_count": 23,
     "metadata": {},
     "output_type": "execute_result"
    }
   ],
   "source": [
    "combinations(9, 1) * combinations(2, 1)"
   ]
  },
  {
   "cell_type": "markdown",
   "id": "ed476c8b",
   "metadata": {},
   "source": [
    "Всего способов:"
   ]
  },
  {
   "cell_type": "code",
   "execution_count": 24,
   "id": "1412aaa9",
   "metadata": {},
   "outputs": [
    {
     "data": {
      "text/plain": [
       "378"
      ]
     },
     "execution_count": 24,
     "metadata": {},
     "output_type": "execute_result"
    }
   ],
   "source": [
    "21 * 18"
   ]
  },
  {
   "cell_type": "markdown",
   "id": "67758f54",
   "metadata": {},
   "source": [
    "**Всего число благопрятных случаев** равно:"
   ]
  },
  {
   "cell_type": "code",
   "execution_count": 25,
   "id": "f33109c0",
   "metadata": {},
   "outputs": [
    {
     "data": {
      "text/plain": [
       "615"
      ]
     },
     "execution_count": 25,
     "metadata": {},
     "output_type": "execute_result"
    }
   ],
   "source": [
    "21 + 216 + 378"
   ]
  },
  {
   "cell_type": "markdown",
   "id": "06d9dc5a",
   "metadata": {},
   "source": [
    "Следовательно, вероятность события равна:"
   ]
  },
  {
   "cell_type": "code",
   "execution_count": 26,
   "id": "90142bd9",
   "metadata": {},
   "outputs": [
    {
     "name": "stdout",
     "output_type": "stream",
     "text": [
      "24.8%\n"
     ]
    }
   ],
   "source": [
    "print(f'{(615 / 2475):.1%}')"
   ]
  },
  {
   "cell_type": "markdown",
   "id": "8375db2d",
   "metadata": {},
   "source": [
    "**с)** Найдем вероятность того, что хотя бы один мяч белый.\n",
    "\n",
    "Вероятность этого события равна 1 - (вероятность того, что ни одного белого).\n",
    "\n",
    "Вычислим вероятность того, что все мячи другого цвета, т.е. из первого ящика вытащили 2 шара не белых (6 способов) и 2 шара не белых из второго ящика (1 способ).\n",
    "\n",
    "Всего 6 * 1 = 6 способов.\n",
    "\n",
    "Вероятность этого события равна:"
   ]
  },
  {
   "cell_type": "code",
   "execution_count": 27,
   "id": "bd33f55e",
   "metadata": {},
   "outputs": [
    {
     "data": {
      "text/plain": [
       "0.0024242424242424242"
      ]
     },
     "execution_count": 27,
     "metadata": {},
     "output_type": "execute_result"
    }
   ],
   "source": [
    "6 / 2475"
   ]
  },
  {
   "cell_type": "markdown",
   "id": "4f003831",
   "metadata": {},
   "source": [
    "А вероятность того, что хотя бы 1 мяч белый:"
   ]
  },
  {
   "cell_type": "code",
   "execution_count": 28,
   "id": "7a1e88cb",
   "metadata": {},
   "outputs": [
    {
     "name": "stdout",
     "output_type": "stream",
     "text": [
      "99.8%\n"
     ]
    }
   ],
   "source": [
    "print(f'{(1 - 6 / 2475):.1%}')"
   ]
  },
  {
   "cell_type": "code",
   "execution_count": null,
   "id": "2100a4b2",
   "metadata": {},
   "outputs": [],
   "source": []
  }
 ],
 "metadata": {
  "kernelspec": {
   "display_name": "Python 3",
   "language": "python",
   "name": "python3"
  },
  "language_info": {
   "codemirror_mode": {
    "name": "ipython",
    "version": 3
   },
   "file_extension": ".py",
   "mimetype": "text/x-python",
   "name": "python",
   "nbconvert_exporter": "python",
   "pygments_lexer": "ipython3",
   "version": "3.8.8"
  }
 },
 "nbformat": 4,
 "nbformat_minor": 5
}
