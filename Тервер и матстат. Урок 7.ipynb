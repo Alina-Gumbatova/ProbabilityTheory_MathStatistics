{
 "cells": [
  {
   "cell_type": "markdown",
   "id": "be82993e",
   "metadata": {},
   "source": [
    "# Практическое задание 7"
   ]
  },
  {
   "cell_type": "markdown",
   "id": "287bb765",
   "metadata": {},
   "source": [
    "## по теме: \"Многомерный статистический анализ. Линейная регрессия\""
   ]
  },
  {
   "cell_type": "markdown",
   "id": "b3c6695e",
   "metadata": {},
   "source": [
    "**Задача 1.**\n",
    "\n",
    "Даны значения величины заработной платы заемщиков банка (zp) и значения их поведенческого кредитного скоринга (ks): \n",
    "\n",
    "zp = [35, 45, 190, 200, 40, 70, 54, 150, 120, 110], \n",
    "\n",
    "ks = [401, 574, 874, 919, 459, 739, 653, 902, 746, 832]. \n",
    "\n",
    "Используя математические операции, посчитать коэффициенты линейной регрессии, приняв за X заработную плату (то есть, zp - признак), а за y - значения скорингового балла (то есть, ks - целевая переменная). \n",
    "\n",
    "Произвести расчет как с использованием intercept, так и без."
   ]
  },
  {
   "cell_type": "markdown",
   "id": "3ecb29d4",
   "metadata": {},
   "source": [
    "**Решение с использованием intercept:**"
   ]
  },
  {
   "cell_type": "code",
   "execution_count": 1,
   "id": "e6a475dc",
   "metadata": {},
   "outputs": [],
   "source": [
    "import numpy as np"
   ]
  },
  {
   "cell_type": "markdown",
   "id": "c604ad2b",
   "metadata": {},
   "source": [
    "$$y = a + bx$$"
   ]
  },
  {
   "cell_type": "code",
   "execution_count": 2,
   "id": "2c35a738",
   "metadata": {},
   "outputs": [],
   "source": [
    "x = np.array([35, 45, 190, 200, 40, 70, 54, 150, 120, 110], dtype=np.float64)"
   ]
  },
  {
   "cell_type": "code",
   "execution_count": 3,
   "id": "99a663d0",
   "metadata": {},
   "outputs": [],
   "source": [
    "y = np.array([401, 574, 874, 919, 459, 739, 653, 902, 746, 832], dtype=np.float64)"
   ]
  },
  {
   "cell_type": "markdown",
   "id": "5560eb02",
   "metadata": {},
   "source": [
    "$$b = \\frac{\\overline{yx} - \\overline{y} \\cdot {\\overline{x}}}{\\overline{x^2} - (\\overline{x})^2}$$"
   ]
  },
  {
   "cell_type": "code",
   "execution_count": 4,
   "id": "2414727f",
   "metadata": {},
   "outputs": [
    {
     "data": {
      "text/plain": [
       "2.620538882402765"
      ]
     },
     "execution_count": 4,
     "metadata": {},
     "output_type": "execute_result"
    }
   ],
   "source": [
    "b = (np.mean(x * y) - np.mean(x) * np.mean(y)) / (np.mean(x**2) - np.mean(x) ** 2)\n",
    "b"
   ]
  },
  {
   "cell_type": "markdown",
   "id": "ab3d2e1c",
   "metadata": {},
   "source": [
    "$$a = \\overline{y} - b \\cdot {\\overline{x}}$$"
   ]
  },
  {
   "cell_type": "code",
   "execution_count": 5,
   "id": "083795a0",
   "metadata": {},
   "outputs": [
    {
     "data": {
      "text/plain": [
       "444.1773573243596"
      ]
     },
     "execution_count": 5,
     "metadata": {},
     "output_type": "execute_result"
    }
   ],
   "source": [
    "a = np.mean(y) - b * np.mean(x)\n",
    "a"
   ]
  },
  {
   "cell_type": "markdown",
   "id": "3740441e",
   "metadata": {},
   "source": [
    "$$y = 444.2 + 2.6 \\cdot x$$"
   ]
  },
  {
   "cell_type": "markdown",
   "id": "f700c83e",
   "metadata": {},
   "source": [
    "**Решение без использования intercept:**"
   ]
  },
  {
   "cell_type": "code",
   "execution_count": 6,
   "id": "fab015e6",
   "metadata": {},
   "outputs": [
    {
     "data": {
      "text/plain": [
       "array([[ 35.],\n",
       "       [ 45.],\n",
       "       [190.],\n",
       "       [200.],\n",
       "       [ 40.],\n",
       "       [ 70.],\n",
       "       [ 54.],\n",
       "       [150.],\n",
       "       [120.],\n",
       "       [110.]])"
      ]
     },
     "execution_count": 6,
     "metadata": {},
     "output_type": "execute_result"
    }
   ],
   "source": [
    "X = x.reshape((10, 1))\n",
    "X"
   ]
  },
  {
   "cell_type": "code",
   "execution_count": 7,
   "id": "2f64dc20",
   "metadata": {},
   "outputs": [
    {
     "data": {
      "text/plain": [
       "array([[401.],\n",
       "       [574.],\n",
       "       [874.],\n",
       "       [919.],\n",
       "       [459.],\n",
       "       [739.],\n",
       "       [653.],\n",
       "       [902.],\n",
       "       [746.],\n",
       "       [832.]])"
      ]
     },
     "execution_count": 7,
     "metadata": {},
     "output_type": "execute_result"
    }
   ],
   "source": [
    "Y = y.reshape((10, 1))\n",
    "Y"
   ]
  },
  {
   "cell_type": "code",
   "execution_count": 8,
   "id": "bbbe51e8",
   "metadata": {},
   "outputs": [
    {
     "data": {
      "text/plain": [
       "array([[5.88982042]])"
      ]
     },
     "execution_count": 8,
     "metadata": {},
     "output_type": "execute_result"
    }
   ],
   "source": [
    "B = np.dot(np.linalg.inv(np.dot(X.T, X)), X.T @ Y)\n",
    "B"
   ]
  },
  {
   "cell_type": "markdown",
   "id": "4bed6c80",
   "metadata": {},
   "source": [
    "$$y = 5.9 \\cdot x$$"
   ]
  },
  {
   "cell_type": "markdown",
   "id": "f2eba343",
   "metadata": {},
   "source": [
    "**Задача 2.**\n",
    "\n",
    "Посчитать коэффициент линейной регрессии при заработной плате (zp), используя градиентный спуск (без intercept)."
   ]
  },
  {
   "cell_type": "code",
   "execution_count": 9,
   "id": "d5be7a1c",
   "metadata": {},
   "outputs": [],
   "source": [
    "def mse(B1, y=y, x=x, n=10):\n",
    "    return np.sum((B1 * x - y) ** 2) / n"
   ]
  },
  {
   "cell_type": "code",
   "execution_count": 10,
   "id": "e2186c3e",
   "metadata": {},
   "outputs": [],
   "source": [
    "B1 = 0.1\n",
    "n = 10"
   ]
  },
  {
   "cell_type": "code",
   "execution_count": 11,
   "id": "9737d068",
   "metadata": {},
   "outputs": [
    {
     "data": {
      "text/plain": [
       "1e-06"
      ]
     },
     "execution_count": 11,
     "metadata": {},
     "output_type": "execute_result"
    }
   ],
   "source": [
    "alfa = 1e-6\n",
    "alfa"
   ]
  },
  {
   "cell_type": "code",
   "execution_count": 12,
   "id": "70fa97e8",
   "metadata": {},
   "outputs": [
    {
     "name": "stdout",
     "output_type": "stream",
     "text": [
      "Interaction : 0, B1 = 0.25952808, mse = 493237.7212546963\n",
      "Interaction : 500, B1 = 5.889815595583751, mse = 56516.858416040064\n",
      "Interaction : 1000, B1 = 5.8898204201285544, mse = 56516.85841571941\n",
      "Interaction : 1500, B1 = 5.889820420132673, mse = 56516.85841571943\n",
      "Interaction : 2000, B1 = 5.889820420132673, mse = 56516.85841571943\n",
      "Interaction : 2500, B1 = 5.889820420132673, mse = 56516.85841571943\n",
      "Interaction : 3000, B1 = 5.889820420132673, mse = 56516.85841571943\n",
      "Interaction : 3500, B1 = 5.889820420132673, mse = 56516.85841571943\n",
      "Interaction : 4000, B1 = 5.889820420132673, mse = 56516.85841571943\n",
      "Interaction : 4500, B1 = 5.889820420132673, mse = 56516.85841571943\n",
      "Interaction : 5000, B1 = 5.889820420132673, mse = 56516.85841571943\n",
      "Interaction : 5500, B1 = 5.889820420132673, mse = 56516.85841571943\n",
      "Interaction : 6000, B1 = 5.889820420132673, mse = 56516.85841571943\n",
      "Interaction : 6500, B1 = 5.889820420132673, mse = 56516.85841571943\n",
      "Interaction : 7000, B1 = 5.889820420132673, mse = 56516.85841571943\n",
      "Interaction : 7500, B1 = 5.889820420132673, mse = 56516.85841571943\n",
      "Interaction : 8000, B1 = 5.889820420132673, mse = 56516.85841571943\n",
      "Interaction : 8500, B1 = 5.889820420132673, mse = 56516.85841571943\n",
      "Interaction : 9000, B1 = 5.889820420132673, mse = 56516.85841571943\n",
      "Interaction : 9500, B1 = 5.889820420132673, mse = 56516.85841571943\n"
     ]
    }
   ],
   "source": [
    "for i in range(10000):\n",
    "    B1 = B1 - alfa * (2 / n) * np.sum((B1 * x -y) * x)\n",
    "    if i % 500 == 0:\n",
    "        print(f'Interaction : {i}, B1 = {B1}, mse = {mse(B1)}')"
   ]
  }
 ],
 "metadata": {
  "kernelspec": {
   "display_name": "Python 3",
   "language": "python",
   "name": "python3"
  },
  "language_info": {
   "codemirror_mode": {
    "name": "ipython",
    "version": 3
   },
   "file_extension": ".py",
   "mimetype": "text/x-python",
   "name": "python",
   "nbconvert_exporter": "python",
   "pygments_lexer": "ipython3",
   "version": "3.8.8"
  }
 },
 "nbformat": 4,
 "nbformat_minor": 5
}
