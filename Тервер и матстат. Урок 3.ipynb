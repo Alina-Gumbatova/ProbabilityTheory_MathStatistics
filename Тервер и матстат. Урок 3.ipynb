{
 "cells": [
  {
   "cell_type": "markdown",
   "id": "6c7930df",
   "metadata": {},
   "source": [
    "# Практическое задание 3"
   ]
  },
  {
   "cell_type": "markdown",
   "id": "7521be6c",
   "metadata": {},
   "source": [
    "## по теме: \"Описательная статистика. Качественные и количественные характеристики популяции. Графическое представление данных\""
   ]
  },
  {
   "cell_type": "markdown",
   "id": "339685c7",
   "metadata": {},
   "source": [
    "### Задача 1.\n",
    "Даны значения зарплат из выборки выпускников: 100, 80, 75, 77, 89, 33, 45, 25, 65, 17, 30, 24, 57, 55, 70, 75, 65, 84, 90, 150. Посчитать (желательно без использования статистических методов наподобие std, var, mean) среднее арифметическое, среднее квадратичное отклонение, смещенную и несмещенную оценки дисперсий для данной выборки."
   ]
  },
  {
   "cell_type": "code",
   "execution_count": 1,
   "id": "50bbe4b0",
   "metadata": {},
   "outputs": [],
   "source": [
    "salary = [100, 80, 75, 77, 89, 33, 45, 25, 65, 17, 30, 24, 57, 55, 70, 75, 65, 84, 90, 150]"
   ]
  },
  {
   "cell_type": "code",
   "execution_count": 2,
   "id": "0d95d2c2",
   "metadata": {},
   "outputs": [],
   "source": [
    "import pandas as pd"
   ]
  },
  {
   "cell_type": "code",
   "execution_count": 3,
   "id": "5623b433",
   "metadata": {},
   "outputs": [],
   "source": [
    "salary_df = pd.DataFrame(salary)"
   ]
  },
  {
   "cell_type": "code",
   "execution_count": 4,
   "id": "3e5717b9",
   "metadata": {},
   "outputs": [
    {
     "data": {
      "text/html": [
       "<div>\n",
       "<style scoped>\n",
       "    .dataframe tbody tr th:only-of-type {\n",
       "        vertical-align: middle;\n",
       "    }\n",
       "\n",
       "    .dataframe tbody tr th {\n",
       "        vertical-align: top;\n",
       "    }\n",
       "\n",
       "    .dataframe thead th {\n",
       "        text-align: right;\n",
       "    }\n",
       "</style>\n",
       "<table border=\"1\" class=\"dataframe\">\n",
       "  <thead>\n",
       "    <tr style=\"text-align: right;\">\n",
       "      <th></th>\n",
       "      <th>0</th>\n",
       "    </tr>\n",
       "  </thead>\n",
       "  <tbody>\n",
       "    <tr>\n",
       "      <th>0</th>\n",
       "      <td>100</td>\n",
       "    </tr>\n",
       "    <tr>\n",
       "      <th>1</th>\n",
       "      <td>80</td>\n",
       "    </tr>\n",
       "    <tr>\n",
       "      <th>2</th>\n",
       "      <td>75</td>\n",
       "    </tr>\n",
       "    <tr>\n",
       "      <th>3</th>\n",
       "      <td>77</td>\n",
       "    </tr>\n",
       "    <tr>\n",
       "      <th>4</th>\n",
       "      <td>89</td>\n",
       "    </tr>\n",
       "    <tr>\n",
       "      <th>5</th>\n",
       "      <td>33</td>\n",
       "    </tr>\n",
       "    <tr>\n",
       "      <th>6</th>\n",
       "      <td>45</td>\n",
       "    </tr>\n",
       "    <tr>\n",
       "      <th>7</th>\n",
       "      <td>25</td>\n",
       "    </tr>\n",
       "    <tr>\n",
       "      <th>8</th>\n",
       "      <td>65</td>\n",
       "    </tr>\n",
       "    <tr>\n",
       "      <th>9</th>\n",
       "      <td>17</td>\n",
       "    </tr>\n",
       "    <tr>\n",
       "      <th>10</th>\n",
       "      <td>30</td>\n",
       "    </tr>\n",
       "    <tr>\n",
       "      <th>11</th>\n",
       "      <td>24</td>\n",
       "    </tr>\n",
       "    <tr>\n",
       "      <th>12</th>\n",
       "      <td>57</td>\n",
       "    </tr>\n",
       "    <tr>\n",
       "      <th>13</th>\n",
       "      <td>55</td>\n",
       "    </tr>\n",
       "    <tr>\n",
       "      <th>14</th>\n",
       "      <td>70</td>\n",
       "    </tr>\n",
       "    <tr>\n",
       "      <th>15</th>\n",
       "      <td>75</td>\n",
       "    </tr>\n",
       "    <tr>\n",
       "      <th>16</th>\n",
       "      <td>65</td>\n",
       "    </tr>\n",
       "    <tr>\n",
       "      <th>17</th>\n",
       "      <td>84</td>\n",
       "    </tr>\n",
       "    <tr>\n",
       "      <th>18</th>\n",
       "      <td>90</td>\n",
       "    </tr>\n",
       "    <tr>\n",
       "      <th>19</th>\n",
       "      <td>150</td>\n",
       "    </tr>\n",
       "  </tbody>\n",
       "</table>\n",
       "</div>"
      ],
      "text/plain": [
       "      0\n",
       "0   100\n",
       "1    80\n",
       "2    75\n",
       "3    77\n",
       "4    89\n",
       "5    33\n",
       "6    45\n",
       "7    25\n",
       "8    65\n",
       "9    17\n",
       "10   30\n",
       "11   24\n",
       "12   57\n",
       "13   55\n",
       "14   70\n",
       "15   75\n",
       "16   65\n",
       "17   84\n",
       "18   90\n",
       "19  150"
      ]
     },
     "execution_count": 4,
     "metadata": {},
     "output_type": "execute_result"
    }
   ],
   "source": [
    "salary_df"
   ]
  },
  {
   "cell_type": "markdown",
   "id": "60b10550",
   "metadata": {},
   "source": [
    "Считаем **среднее арефметическое**:"
   ]
  },
  {
   "cell_type": "code",
   "execution_count": 5,
   "id": "a0d491c2",
   "metadata": {},
   "outputs": [
    {
     "data": {
      "text/plain": [
       "0    65.3\n",
       "dtype: float64"
      ]
     },
     "execution_count": 5,
     "metadata": {},
     "output_type": "execute_result"
    }
   ],
   "source": [
    "mean_salary = salary_df.sum() / salary_df.count()\n",
    "mean_salary"
   ]
  },
  {
   "cell_type": "markdown",
   "id": "f39f2fcd",
   "metadata": {},
   "source": [
    "Считаем **среднее квадратичное отклонение**:"
   ]
  },
  {
   "cell_type": "markdown",
   "id": "b70a9cf0",
   "metadata": {},
   "source": [
    "$$\\sigma = \\sqrt{\\frac{\\sum\\limits_{i=1}^{n} (x_i - \\overline{x})^2}{n}}$$"
   ]
  },
  {
   "cell_type": "code",
   "execution_count": 6,
   "id": "c957b86c",
   "metadata": {},
   "outputs": [],
   "source": [
    "import numpy as np"
   ]
  },
  {
   "cell_type": "code",
   "execution_count": 7,
   "id": "b21bc105",
   "metadata": {},
   "outputs": [
    {
     "data": {
      "text/plain": [
       "0    30.823854\n",
       "dtype: float64"
      ]
     },
     "execution_count": 7,
     "metadata": {},
     "output_type": "execute_result"
    }
   ],
   "source": [
    "salary_std = np.sqrt(((salary_df - mean_salary)**2).sum() / salary_df.count())\n",
    "salary_std"
   ]
  },
  {
   "cell_type": "markdown",
   "id": "34243e3c",
   "metadata": {},
   "source": [
    "Найдем **смещенную оценку дисперсии** для данной выборки:"
   ]
  },
  {
   "cell_type": "markdown",
   "id": "690a9bed",
   "metadata": {},
   "source": [
    "$$\\sigma^2 = \\frac{\\sum\\limits_{i=1}^{n} (x_i - \\overline{x})^2}{n}$$"
   ]
  },
  {
   "cell_type": "code",
   "execution_count": 8,
   "id": "63b69f30",
   "metadata": {},
   "outputs": [
    {
     "data": {
      "text/plain": [
       "0    950.11\n",
       "dtype: float64"
      ]
     },
     "execution_count": 8,
     "metadata": {},
     "output_type": "execute_result"
    }
   ],
   "source": [
    "dispersion = salary_std ** 2\n",
    "dispersion"
   ]
  },
  {
   "cell_type": "markdown",
   "id": "16444d94",
   "metadata": {},
   "source": [
    "Найдем **несмещенную оценку дисперсии** для данной выборки:"
   ]
  },
  {
   "cell_type": "markdown",
   "id": "ddcd86a3",
   "metadata": {},
   "source": [
    "$$\\sigma^2_{несмещ.} = \\frac{\\sum\\limits_{i=1}^{n} (x_i - \\overline{x})^2}{n - 1}$$"
   ]
  },
  {
   "cell_type": "code",
   "execution_count": 9,
   "id": "c59f0412",
   "metadata": {},
   "outputs": [
    {
     "data": {
      "text/plain": [
       "0    1000.115789\n",
       "dtype: float64"
      ]
     },
     "execution_count": 9,
     "metadata": {},
     "output_type": "execute_result"
    }
   ],
   "source": [
    "dispersion_1 = ((salary_df - mean_salary)**2).sum() / (salary_df.count() - 1)\n",
    "dispersion_1"
   ]
  },
  {
   "cell_type": "markdown",
   "id": "69d75156",
   "metadata": {},
   "source": [
    "### Задача 2.\n",
    "В первом ящике находится 8 мячей, из которых 5 - белые. Во втором ящике - 12 мячей, из которых 5 белых. Из первого ящика вытаскивают случайным образом два мяча, из второго - 4. Какова вероятность того, что 3 мяча белые?"
   ]
  },
  {
   "cell_type": "code",
   "execution_count": 10,
   "id": "dd433a5f",
   "metadata": {},
   "outputs": [],
   "source": [
    "from math import factorial"
   ]
  },
  {
   "cell_type": "code",
   "execution_count": 11,
   "id": "d4ebded3",
   "metadata": {},
   "outputs": [],
   "source": [
    "def combinations(n, k):\n",
    "    return factorial(n) / (factorial(k) * factorial(n - k))"
   ]
  },
  {
   "cell_type": "code",
   "execution_count": 12,
   "id": "335bb748",
   "metadata": {},
   "outputs": [
    {
     "name": "stdout",
     "output_type": "stream",
     "text": [
      "36.87%\n"
     ]
    }
   ],
   "source": [
    "print(f'{(combinations(3, 2) * combinations(5, 3) * combinations(7, 1) + combinations(5, 1) * combinations(3, 1) * combinations(7, 2) *combinations(5, 2) + combinations(5, 2) * combinations(5, 1) * combinations(7, 3)) / (combinations(8, 2) * combinations(12, 4)):.2%}')"
   ]
  },
  {
   "cell_type": "markdown",
   "id": "ca579630",
   "metadata": {},
   "source": [
    "### Задача 3.\n",
    "На соревновании по биатлону один из трех спортсменов стреляет и попадает в мишень. Вероятность попадания для первого спортсмена равна 0.9, для второго — 0.8, для третьего — 0.6. Найти вероятность того, что выстрел произведен: a). первым спортсменом б). вторым спортсменом в). третьим спортсменом."
   ]
  },
  {
   "cell_type": "markdown",
   "id": "c0f219b9",
   "metadata": {},
   "source": [
    "a) вероятность того, что выстрел произведен первым спортсменом:"
   ]
  },
  {
   "cell_type": "code",
   "execution_count": 13,
   "id": "8560bd6e",
   "metadata": {},
   "outputs": [
    {
     "name": "stdout",
     "output_type": "stream",
     "text": [
      "30.0%\n"
     ]
    }
   ],
   "source": [
    "print(f'{(1 / 3 * 0.9):.1%}')"
   ]
  },
  {
   "cell_type": "markdown",
   "id": "7d37f9d6",
   "metadata": {},
   "source": [
    "б) вероятность того, что выстрел произведен вторым спортсменом:"
   ]
  },
  {
   "cell_type": "code",
   "execution_count": 14,
   "id": "e0c23a76",
   "metadata": {},
   "outputs": [
    {
     "name": "stdout",
     "output_type": "stream",
     "text": [
      "26.7%\n"
     ]
    }
   ],
   "source": [
    "print(f'{(1 / 3 * 0.8):.1%}')"
   ]
  },
  {
   "cell_type": "markdown",
   "id": "1b35fc5d",
   "metadata": {},
   "source": [
    "в) вероятность того, что выстрел произведен третьим спортсменом:"
   ]
  },
  {
   "cell_type": "code",
   "execution_count": 15,
   "id": "ab07dcf4",
   "metadata": {},
   "outputs": [
    {
     "name": "stdout",
     "output_type": "stream",
     "text": [
      "20.0%\n"
     ]
    }
   ],
   "source": [
    "print(f'{(1 / 3 * 0.6):.1%}')"
   ]
  },
  {
   "cell_type": "markdown",
   "id": "8fdd6f95",
   "metadata": {},
   "source": [
    "### Задача 4.\n",
    "В университет на факультеты A и B поступило равное количество студентов, а на факультет C студентов поступило столько же, сколько на A и B вместе. Вероятность того, что студент факультета A сдаст первую сессию, равна 0.8. Для студента факультета B эта вероятность равна 0.7, а для студента факультета C - 0.9. Студент сдал первую сессию. Какова вероятность, что он учится: a). на факультете A б). на факультете B в). на факультете C?"
   ]
  },
  {
   "cell_type": "markdown",
   "id": "61f678e0",
   "metadata": {},
   "source": [
    "а) вероятность того, что студент учится на факультете A"
   ]
  },
  {
   "cell_type": "code",
   "execution_count": 16,
   "id": "10792ed4",
   "metadata": {
    "scrolled": true
   },
   "outputs": [
    {
     "name": "stdout",
     "output_type": "stream",
     "text": [
      "20.0%\n"
     ]
    }
   ],
   "source": [
    "print(f'{(1 / 4 * 0.8):.1%}')"
   ]
  },
  {
   "cell_type": "markdown",
   "id": "5822a921",
   "metadata": {},
   "source": [
    "б) вероятность того, что студент учится на факультете В"
   ]
  },
  {
   "cell_type": "code",
   "execution_count": 17,
   "id": "b522d887",
   "metadata": {},
   "outputs": [
    {
     "name": "stdout",
     "output_type": "stream",
     "text": [
      "17.5%\n"
     ]
    }
   ],
   "source": [
    "print(f'{(1 / 4 * 0.7):.1%}')"
   ]
  },
  {
   "cell_type": "markdown",
   "id": "b03c63e6",
   "metadata": {},
   "source": [
    "c) вероятность того, что студент учится на факультете С"
   ]
  },
  {
   "cell_type": "code",
   "execution_count": 18,
   "id": "9b745f45",
   "metadata": {},
   "outputs": [
    {
     "name": "stdout",
     "output_type": "stream",
     "text": [
      "45.0%\n"
     ]
    }
   ],
   "source": [
    "print(f'{(1 / 2 * 0.9):.1%}')"
   ]
  },
  {
   "cell_type": "markdown",
   "id": "7fa71c6e",
   "metadata": {},
   "source": [
    "### Задача 5.\n",
    "Устройство состоит из трех деталей. Для первой детали вероятность выйти из строя в первый месяц равна 0.1, для второй - 0.2, для третьей - 0.25. Какова вероятность того, что в первый месяц выйдут из строя: а). все детали б). только две детали в). хотя бы одна деталь г). от одной до двух деталей?"
   ]
  },
  {
   "cell_type": "markdown",
   "id": "3093f05a",
   "metadata": {},
   "source": [
    "а) вероятность того, что в первый месяц выйдут из строя все детали"
   ]
  },
  {
   "cell_type": "code",
   "execution_count": 19,
   "id": "a48883d6",
   "metadata": {},
   "outputs": [
    {
     "name": "stdout",
     "output_type": "stream",
     "text": [
      "0.5%\n"
     ]
    }
   ],
   "source": [
    "print(f'{(0.1 * 0.2 * 0.25):.1%}')"
   ]
  },
  {
   "cell_type": "markdown",
   "id": "deb091d2",
   "metadata": {},
   "source": [
    "б) вероятность того, что в первый месяц выйдут из строя только две детали"
   ]
  },
  {
   "cell_type": "code",
   "execution_count": 20,
   "id": "d847acc7",
   "metadata": {},
   "outputs": [
    {
     "name": "stdout",
     "output_type": "stream",
     "text": [
      "8.0%\n"
     ]
    }
   ],
   "source": [
    "print(f'{(0.1 * 0.2 * 0.75 + 0.1 * 0.8 * 0.25 + 0.9 * 0.2 * 0.25):.1%}')"
   ]
  },
  {
   "cell_type": "markdown",
   "id": "65c0c6a0",
   "metadata": {},
   "source": [
    "в) вероятность того, что в первый месяц выйдет из строя хотя бы одна деталь"
   ]
  },
  {
   "cell_type": "code",
   "execution_count": 21,
   "id": "6f08221e",
   "metadata": {},
   "outputs": [
    {
     "name": "stdout",
     "output_type": "stream",
     "text": [
      "46.0%\n"
     ]
    }
   ],
   "source": [
    "print(f'{(1 - 0.9 * 0.8 * 0.75):.1%}')"
   ]
  },
  {
   "cell_type": "markdown",
   "id": "6afb0a0f",
   "metadata": {},
   "source": [
    "г) вероятность того, что в первый месяц выйдут из строя от одной до двух деталей"
   ]
  },
  {
   "cell_type": "code",
   "execution_count": 22,
   "id": "167bc0c4",
   "metadata": {},
   "outputs": [
    {
     "name": "stdout",
     "output_type": "stream",
     "text": [
      "45.5%\n"
     ]
    }
   ],
   "source": [
    "print(f'{(1 - (0.1 * 0.2 * 0.25 + 0.9 * 0.8 * 0.75)):.1%}')"
   ]
  },
  {
   "cell_type": "code",
   "execution_count": null,
   "id": "da62b9be",
   "metadata": {},
   "outputs": [],
   "source": []
  }
 ],
 "metadata": {
  "kernelspec": {
   "display_name": "Python 3",
   "language": "python",
   "name": "python3"
  },
  "language_info": {
   "codemirror_mode": {
    "name": "ipython",
    "version": 3
   },
   "file_extension": ".py",
   "mimetype": "text/x-python",
   "name": "python",
   "nbconvert_exporter": "python",
   "pygments_lexer": "ipython3",
   "version": "3.8.8"
  }
 },
 "nbformat": 4,
 "nbformat_minor": 5
}
