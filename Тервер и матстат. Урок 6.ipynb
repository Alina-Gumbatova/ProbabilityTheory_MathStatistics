{
 "cells": [
  {
   "cell_type": "markdown",
   "id": "811f98bc",
   "metadata": {},
   "source": [
    "# Практическое задание 6"
   ]
  },
  {
   "cell_type": "markdown",
   "id": "c787632b",
   "metadata": {},
   "source": [
    "## по теме: \"Взаимосвязь величин. Параметрические и непараметрические показатели корреляции. Корреляционный анализ\"."
   ]
  },
  {
   "cell_type": "markdown",
   "id": "7f187165",
   "metadata": {},
   "source": [
    "**Задача 1.**\n",
    "\n",
    "Даны значения величины заработной платы заемщиков банка (zp) и значения их поведенческого кредитного скоринга (ks):\n",
    "\n",
    "zp = [35, 45, 190, 200, 40, 70, 54, 150, 120, 110],\n",
    "\n",
    "ks = [401, 574, 874, 919, 459, 739, 653, 902, 746, 832].\n",
    "\n",
    "Найдите ковариацию этих двух величин с помощью элементарных действий, а затем с помощью функции cov из numpy.\n",
    "Полученные значения должны быть равны.\n",
    "\n",
    "Найдите коэффициент корреляции Пирсона с помощью ковариации и среднеквадратичных отклонений двух признаков,\n",
    "а затем с использованием функций из библиотек numpy и pandas."
   ]
  },
  {
   "cell_type": "code",
   "execution_count": 1,
   "id": "656f80a1",
   "metadata": {},
   "outputs": [],
   "source": [
    "import pandas as pd"
   ]
  },
  {
   "cell_type": "code",
   "execution_count": 2,
   "id": "96d23d52",
   "metadata": {},
   "outputs": [],
   "source": [
    "zp = [35, 45, 190, 200, 40, 70, 54, 150, 120, 110]"
   ]
  },
  {
   "cell_type": "code",
   "execution_count": 3,
   "id": "5c1d89e2",
   "metadata": {},
   "outputs": [],
   "source": [
    "ks = [401, 574, 874, 919, 459, 739, 653, 902, 746, 832]"
   ]
  },
  {
   "cell_type": "code",
   "execution_count": 4,
   "id": "762b7e8f",
   "metadata": {},
   "outputs": [],
   "source": [
    "zp_df = pd.DataFrame(zp)"
   ]
  },
  {
   "cell_type": "code",
   "execution_count": 5,
   "id": "09a07f49",
   "metadata": {},
   "outputs": [],
   "source": [
    "ks_df = pd.DataFrame(ks)"
   ]
  },
  {
   "cell_type": "markdown",
   "id": "222eadf7",
   "metadata": {},
   "source": [
    "$$cov_{XY} = M[(X - M(X))(Y - M(Y))] = M(XY) - M(X)M(Y)=\\overline{X \\cdot Y} - \\overline{X} \\cdot \\overline{Y}$$"
   ]
  },
  {
   "cell_type": "code",
   "execution_count": 6,
   "id": "54310f12",
   "metadata": {},
   "outputs": [
    {
     "data": {
      "text/plain": [
       "0    9157.84\n",
       "dtype: float64"
      ]
     },
     "execution_count": 6,
     "metadata": {},
     "output_type": "execute_result"
    }
   ],
   "source": [
    "cov_0 = (zp_df * ks_df).mean() - zp_df.mean() * ks_df.mean()\n",
    "cov_0"
   ]
  },
  {
   "cell_type": "code",
   "execution_count": 7,
   "id": "96dcca52",
   "metadata": {},
   "outputs": [],
   "source": [
    "import numpy as np"
   ]
  },
  {
   "cell_type": "code",
   "execution_count": 8,
   "id": "c1ab8bdf",
   "metadata": {},
   "outputs": [
    {
     "data": {
      "text/plain": [
       "10175.377777777776"
      ]
     },
     "execution_count": 8,
     "metadata": {},
     "output_type": "execute_result"
    }
   ],
   "source": [
    "cov_1 = np.cov(zp, ks)[0, 1] # Несмещенная оценка\n",
    "cov_1"
   ]
  },
  {
   "cell_type": "code",
   "execution_count": 9,
   "id": "695fa9f2",
   "metadata": {},
   "outputs": [
    {
     "data": {
      "text/plain": [
       "9157.84"
      ]
     },
     "execution_count": 9,
     "metadata": {},
     "output_type": "execute_result"
    }
   ],
   "source": [
    "cov_0 = np.cov(zp, ks, ddof=0)[0, 1] # Смещенная оценка\n",
    "cov_0"
   ]
  },
  {
   "cell_type": "markdown",
   "id": "b9a0f600",
   "metadata": {},
   "source": [
    "$$r_{XY} = \\frac{cov_{XY}}{\\sigma_{X}\\sigma_{Y}}$$"
   ]
  },
  {
   "cell_type": "code",
   "execution_count": 10,
   "id": "6f8b2737",
   "metadata": {},
   "outputs": [
    {
     "data": {
      "text/plain": [
       "0    0.88749\n",
       "dtype: float64"
      ]
     },
     "execution_count": 10,
     "metadata": {},
     "output_type": "execute_result"
    }
   ],
   "source": [
    "r = cov_1 / (zp_df.std(ddof=1) * ks_df.std(ddof=1))\n",
    "r"
   ]
  },
  {
   "cell_type": "markdown",
   "id": "e37c8566",
   "metadata": {},
   "source": [
    "**Задача 2.**\n",
    "\n",
    "Измерены значения IQ выборки студентов,\n",
    "обучающихся в местных технических вузах:\n",
    "131, 125, 115, 122, 131, 115, 107, 99, 125, 111.\n",
    "Известно, что в генеральной совокупности IQ распределен нормально.\n",
    "Найдите доверительный интервал для математического ожидания с надежностью 0.95."
   ]
  },
  {
   "cell_type": "markdown",
   "id": "db8cc3e2",
   "metadata": {},
   "source": [
    "$$T_{1,2} = \\overline{X} \\pm \\frac{s_0}{\\sqrt{n}} \\cdot c_{\\gamma}$$"
   ]
  },
  {
   "cell_type": "markdown",
   "id": "bf92426e",
   "metadata": {},
   "source": [
    "где $T_1$, $T_2$ — нижняя и верхняя границы доверительного интервала,\n",
    "\n",
    "$\\overline{X}$  — выборочное среднее арифметическое, $s_0$ — среднее квадратичное отклонение по выборке (несмещенное),\n",
    "\n",
    "$n$ — размер выборки,\n",
    "\n",
    "$\\gamma$ — доверительная вероятность."
   ]
  },
  {
   "cell_type": "markdown",
   "id": "91afcf01",
   "metadata": {},
   "source": [
    "$c_{\\gamma} = Ф^{-1} \\frac{(1 + \\gamma)}{2}$ — обратное значение функции стандартного нормального распределения."
   ]
  },
  {
   "cell_type": "code",
   "execution_count": 11,
   "id": "622d5a85",
   "metadata": {},
   "outputs": [],
   "source": [
    "IQ = [131, 125, 115, 122, 131, 115, 107, 99, 125, 111]"
   ]
  },
  {
   "cell_type": "code",
   "execution_count": 12,
   "id": "6b326362",
   "metadata": {},
   "outputs": [],
   "source": [
    "IQ_df = pd.DataFrame(IQ)"
   ]
  },
  {
   "cell_type": "code",
   "execution_count": 13,
   "id": "64c7c5fd",
   "metadata": {},
   "outputs": [
    {
     "data": {
      "text/plain": [
       "0    118.1\n",
       "dtype: float64"
      ]
     },
     "execution_count": 13,
     "metadata": {},
     "output_type": "execute_result"
    }
   ],
   "source": [
    "IQ_df.mean()"
   ]
  },
  {
   "cell_type": "code",
   "execution_count": 14,
   "id": "ce882b00",
   "metadata": {},
   "outputs": [
    {
     "data": {
      "text/plain": [
       "0    10.545668\n",
       "dtype: float64"
      ]
     },
     "execution_count": 14,
     "metadata": {},
     "output_type": "execute_result"
    }
   ],
   "source": [
    "s_0 = IQ_df.std(ddof=1)\n",
    "s_0"
   ]
  },
  {
   "cell_type": "markdown",
   "id": "843e0f73",
   "metadata": {},
   "source": [
    "t(alfa/2) = 2.262"
   ]
  },
  {
   "cell_type": "code",
   "execution_count": 15,
   "id": "5aa91f3e",
   "metadata": {},
   "outputs": [
    {
     "data": {
      "text/plain": [
       "10"
      ]
     },
     "execution_count": 15,
     "metadata": {},
     "output_type": "execute_result"
    }
   ],
   "source": [
    "n = len(IQ_df)\n",
    "n"
   ]
  },
  {
   "cell_type": "code",
   "execution_count": 16,
   "id": "47ca60f2",
   "metadata": {},
   "outputs": [
    {
     "data": {
      "text/plain": [
       "0    7.543392\n",
       "dtype: float64"
      ]
     },
     "execution_count": 16,
     "metadata": {},
     "output_type": "execute_result"
    }
   ],
   "source": [
    "s_0 * 2.262 / n ** (0.5)"
   ]
  },
  {
   "cell_type": "markdown",
   "id": "b78d6486",
   "metadata": {},
   "source": [
    "$$ [118.1 \\pm 7.5] $$\n",
    "$$ [110.6;  125.6] $$"
   ]
  },
  {
   "cell_type": "markdown",
   "id": "7a9640e0",
   "metadata": {},
   "source": [
    "**Задача 3.**\n",
    "\n",
    "Известно, что рост футболистов в сборной распределен нормально\n",
    "с дисперсией генеральной совокупности, равной 25 кв.см. Объем выборки равен 27,\n",
    "среднее выборочное составляет 174.2. Найдите доверительный интервал для математического\n",
    "ожидания с надежностью 0.95."
   ]
  },
  {
   "cell_type": "markdown",
   "id": "5b0a1312",
   "metadata": {},
   "source": [
    "$$T_{1,2} = \\overline{X} \\pm \\frac{s_0}{\\sqrt{n}} \\cdot c_{\\gamma} = 174.2 \\pm \\frac{5}{\\sqrt{27}} \\cdot 1.96 = 174.2 \\pm 1.9$$\n",
    "$$[172.3; 176.1]$$"
   ]
  },
  {
   "cell_type": "code",
   "execution_count": null,
   "id": "f842d83c",
   "metadata": {},
   "outputs": [],
   "source": []
  }
 ],
 "metadata": {
  "kernelspec": {
   "display_name": "Python 3",
   "language": "python",
   "name": "python3"
  },
  "language_info": {
   "codemirror_mode": {
    "name": "ipython",
    "version": 3
   },
   "file_extension": ".py",
   "mimetype": "text/x-python",
   "name": "python",
   "nbconvert_exporter": "python",
   "pygments_lexer": "ipython3",
   "version": "3.8.8"
  }
 },
 "nbformat": 4,
 "nbformat_minor": 5
}
